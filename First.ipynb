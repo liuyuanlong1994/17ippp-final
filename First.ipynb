{
 "cells": [
  {
   "cell_type": "code",
   "execution_count": 14,
   "metadata": {
    "collapsed": true
   },
   "outputs": [],
   "source": [
    "\n",
    "import pandas as pd\n",
    "\n",
    "import numpy as np\n",
    "\n",
    "from matplotlib import pyplot as plt\n",
    "\n",
    "import csv\n",
    "\n",
    "import seaborn as sns\n",
    "\n",
    "import statsmodels.formula.api as sm\n",
    "\n",
    "\n",
    "#Below we let python read the two csv files here, one country data and one soccer data, respectively.\n",
    "\n",
    "country=pd.read_csv(\"country.csv\")\n",
    "dictobj = csv.DictReader(open(\"country.csv\"))\n"
   ]
  },
  {
   "cell_type": "code",
   "execution_count": 5,
   "metadata": {
    "scrolled": false
   },
   "outputs": [],
   "source": [
    "soccer=pd.read_csv(\"soccer.csv\")\n",
    "dictobj = csv.DictReader(open(\"soccer.csv\"))"
   ]
  },
  {
   "cell_type": "code",
   "execution_count": 6,
   "metadata": {
    "collapsed": true
   },
   "outputs": [],
   "source": [
    "mergedsheet = pd.merge(country,\n",
    "                    soccer,\n",
    "                    on='Country')"
   ]
  },
  {
   "cell_type": "code",
   "execution_count": 13,
   "metadata": {
    "scrolled": false
   },
   "outputs": [
    {
     "name": "stdout",
     "output_type": "stream",
     "text": [
      "            Country    2011GDP    2016GDP  GDP Log Change  2011 Inflation  \\\n",
      "0         Argentina    447.644    544.735        0.216893           9.775   \n",
      "1           Austria    419.243    386.587       -0.077893           3.600   \n",
      "2           Belgium    513.396    466.559       -0.091230           3.469   \n",
      "3            Brazil   2,492.91   1,798.62       -0.278506           6.636   \n",
      "4          Bulgaria     53.514      52.39       -0.021004           3.389   \n",
      "5             China   7,298.15  11,232.11        0.539035           5.417   \n",
      "6          Colombia    328.422    282.357       -0.140262           3.416   \n",
      "7           Croatia     63.842     50.731       -0.205366           2.260   \n",
      "8            Cyprus     24.949      19.81       -0.205980           3.486   \n",
      "9    Czech Republic    215.265    195.328       -0.092616           1.929   \n",
      "10          Denmark    333.238    306.734       -0.079535           2.757   \n",
      "11            Egypt    235.719    332.349        0.409937          11.068   \n",
      "12           France   2,776.32   2,466.47       -0.111605           2.293   \n",
      "13          Germany   3,577.03   3,479.23       -0.027341           2.482   \n",
      "14           Greece    303.065    194.639       -0.357765           3.100   \n",
      "15          Hungary    140.303     124.38       -0.113490           3.900   \n",
      "16           Israel    242.897    317.748        0.308159           3.450   \n",
      "17            Italy   2,198.73   1,850.74       -0.158269           2.902   \n",
      "18            Japan   5,869.47   4,936.54       -0.158946          -0.283   \n",
      "19      Netherlands    840.433    777.548       -0.074825           2.477   \n",
      "20           Norway     483.65    370.557       -0.233832           1.301   \n",
      "21           Poland    513.821    469.323       -0.086602           4.268   \n",
      "22         Portugal     238.88    204.649       -0.143298           3.558   \n",
      "23            Qatar    173.847    155.786       -0.103890           2.000   \n",
      "24          Romania    189.776    187.593       -0.011503           5.812   \n",
      "25           Russia    1,850.4   1,283.16       -0.306550           8.443   \n",
      "26     Saudi Arabia    577.595    646.438        0.119189           4.976   \n",
      "27           Serbia     45.064     37.745       -0.162413          11.215   \n",
      "28  Slovak Republic     96.089     89.525       -0.068312           4.079   \n",
      "29     South Africa    408.074      294.9       -0.277337           4.999   \n",
      "30            Spain   1,493.51    1,232.6       -0.174696           3.053   \n",
      "31           Sweden    538.237        511       -0.050604           1.366   \n",
      "32      Switzerland    636.059    669.038        0.051849           0.228   \n",
      "33          Tunisia      46.36     42.074       -0.092450           3.500   \n",
      "34           Turkey    778.089     863.39        0.109629           6.472   \n",
      "35          Ukraine     164.96     93.263       -0.434633           7.958   \n",
      "36              UAE    360.136    348.743       -0.031635           0.882   \n",
      "37   United Kingdom   2,417.57   2,629.19        0.087534           4.454   \n",
      "38    United States  15,094.03  18,624.45        0.233895           3.142   \n",
      "39          Uruguay     46.872      52.42        0.118365           8.093   \n",
      "\n",
      "    2016 Inflation  Inflation Log Change  2011 Unemployment  \\\n",
      "0           40.900              3.184143              7.150   \n",
      "1            0.874             -0.757222              4.200   \n",
      "2            2.076             -0.401557              7.225   \n",
      "3            9.019              0.359102              5.970   \n",
      "4           -1.567             -1.462378             12.451   \n",
      "5            2.075             -0.616947              4.000   \n",
      "6            7.608              1.227166             10.828   \n",
      "7           -0.986             -1.436283             13.245   \n",
      "8           -1.000             -1.286862              7.775   \n",
      "9            0.598             -0.689995              6.700   \n",
      "10           0.400             -0.854915              6.128   \n",
      "11          10.199             -0.078515             10.379   \n",
      "12           0.346             -0.849106              9.675   \n",
      "13           0.399             -0.839243              5.983   \n",
      "14          -0.100             -1.032258             17.305   \n",
      "15           0.400             -0.897436             10.950   \n",
      "16          -0.575             -1.166667              5.625   \n",
      "17          -0.050             -1.017229              8.367   \n",
      "18          -0.162             -0.427562              4.549   \n",
      "19           0.103             -0.958417              4.500   \n",
      "20           3.200              1.459646              3.280   \n",
      "21          -0.633             -1.148313              9.647   \n",
      "22           0.732             -0.794266             12.742   \n",
      "23           3.012              0.506000              0.580   \n",
      "24          -1.515             -1.260668              7.212   \n",
      "25           7.243             -0.142130              6.500   \n",
      "26           4.024             -0.191318              5.770   \n",
      "27           1.286             -0.885332             23.650   \n",
      "28          -0.243             -1.059573             13.401   \n",
      "29           6.401              0.280456             24.508   \n",
      "30          -0.324             -1.106125             21.638   \n",
      "31           1.092             -0.200586              7.467   \n",
      "32          -0.378             -2.657895              3.110   \n",
      "33           3.745              0.070000             18.900   \n",
      "34           8.403              0.298362              9.886   \n",
      "35          15.056              0.891933              8.196   \n",
      "36           3.554              3.029478              4.130   \n",
      "37           0.743             -0.833184              8.006   \n",
      "38           1.188             -0.621897              8.950   \n",
      "39          10.221              0.262943              6.100   \n",
      "\n",
      "    2016 Unemployment  Unemployment Log Change  \\\n",
      "0               8.467                 0.184196   \n",
      "1               6.008                 0.430476   \n",
      "2               7.875                 0.089965   \n",
      "3              11.267                 0.887270   \n",
      "4               7.666                -0.384306   \n",
      "5               4.020                 0.005000   \n",
      "6               9.200                -0.150351   \n",
      "7              14.958                 0.129332   \n",
      "8              13.025                 0.675241   \n",
      "9               3.951                -0.410299   \n",
      "10              6.192                 0.010444   \n",
      "11             12.702                 0.223817   \n",
      "12             10.042                 0.037933   \n",
      "13              4.167                -0.303527   \n",
      "14             23.550                 0.360878   \n",
      "15              5.100                -0.534247   \n",
      "16              4.775                -0.151111   \n",
      "17             11.650                 0.392375   \n",
      "18              3.117                -0.314794   \n",
      "19              5.882                 0.307111   \n",
      "20              4.698                 0.432317   \n",
      "21              6.161                -0.361356   \n",
      "22             11.066                -0.131534   \n",
      "23              0.230                -0.603448   \n",
      "24              5.902                -0.181642   \n",
      "25              5.508                -0.152615   \n",
      "26              5.600                -0.029463   \n",
      "27             15.905                -0.327484   \n",
      "28              9.642                -0.280501   \n",
      "29             26.725                 0.090460   \n",
      "30             19.635                -0.092569   \n",
      "31              6.950                -0.069238   \n",
      "32              3.323                 0.068489   \n",
      "33             14.000                -0.259259   \n",
      "34             10.907                 0.103277   \n",
      "35              9.347                 0.140434   \n",
      "36              3.690                -0.106538   \n",
      "37              4.900                -0.387959   \n",
      "38              4.850                -0.458101   \n",
      "39              7.867                 0.289672   \n",
      "\n",
      "                                        Soccer League  2012 Expenditure  \\\n",
      "0                                    Primera División             21.26   \n",
      "1                                          Bundesliga             18.10   \n",
      "2                                  Jupiler Pro League             43.49   \n",
      "3                       Campeonato Brasileiro Série A            108.92   \n",
      "4                                          Parva Liga              3.55   \n",
      "5             Chinese Super League / China League One             64.20   \n",
      "6                                       Liga Águila I              1.50   \n",
      "7                                               1.HNL              5.60   \n",
      "8                                      First Division            875.00   \n",
      "9                                            HET Liga              4.93   \n",
      "10                                   Alka Superligaen              5.89   \n",
      "11                            Egyptian Premier League            745.00   \n",
      "12                                   Ligue 1/ Ligue 2            286.35   \n",
      "13                         1.Bundesliga/ 2.Bundesliga            286.24   \n",
      "14                                       Super League              5.97   \n",
      "15                                  Nemzeti Bajnokság              1.11   \n",
      "16                                        Ligat ha'Al              4.04   \n",
      "17                                   Serie A/ Serie B            521.16   \n",
      "18                                          J1 League              3.20   \n",
      "19                        Eredivisie / Jupiler League             47.75   \n",
      "20                                        Eliteserien              9.48   \n",
      "21                                  Lotto Ekstraklasa              2.86   \n",
      "22                         Liga NOS / Ledman Liga Pro             63.47   \n",
      "23                                 Qatar Stars League             26.90   \n",
      "24                                             Liga 1             10.27   \n",
      "25                                       Premier Liga            321.38   \n",
      "26                          Saudi Professional League             26.63   \n",
      "27                                          SuperLiga              1.68   \n",
      "28                                       Fortuna Liga              0.31   \n",
      "29                                   ABSA Premiership              3.09   \n",
      "30                                    LaLiga/ Laliga2            159.66   \n",
      "31                                        Allsvenskan              1.35   \n",
      "32                            Raiffeisen Super League             16.26   \n",
      "33                             Ligue Professionelle 1             10.71   \n",
      "34                                          Süper Lig            113.32   \n",
      "35                                       Premier Liga             79.87   \n",
      "36           United Arab Emirates Arabian Gulf League             17.30   \n",
      "37   Premier League/ Championship/ Scottish Premie...            872.10   \n",
      "38                                Major League Soccer              7.12   \n",
      "39                          Primera Division Clausura               NaN   \n",
      "\n",
      "    2017 Expenditure  Expenditure log change  2012 Income  2017 Income  \\\n",
      "0              56.04                1.635936        53.10       131.20   \n",
      "1               6.28               -0.653039         4.71        36.52   \n",
      "2              76.57                0.760635        50.37       136.83   \n",
      "3              19.10               -0.824642       209.20       124.28   \n",
      "4               3.20               -0.098592         5.23        15.64   \n",
      "5              58.85               -0.083333        18.33        46.19   \n",
      "6               8.73                4.820000         6.70        19.88   \n",
      "7               3.69               -0.341071        31.76        34.50   \n",
      "8               2.70               -0.996914         4.02         2.90   \n",
      "9              13.32                1.701826         7.56        23.65   \n",
      "10             12.00                1.037351        25.47        26.05   \n",
      "11              7.00               -0.990604         6.15         5.84   \n",
      "12            683.56                1.387149       286.76       606.73   \n",
      "13            631.19                1.205108       212.44       557.20   \n",
      "14             30.20                4.058626        14.61        29.25   \n",
      "15              2.13                0.918919         1.29         4.33   \n",
      "16              6.78                0.678218         7.21         7.83   \n",
      "17            835.38                0.602924       503.72       715.01   \n",
      "18              3.85                0.203125         9.57         2.75   \n",
      "19             69.21                0.449424       113.65       210.40   \n",
      "20              4.04               -0.573840        30.08         8.38   \n",
      "21              5.31                0.856643        14.07        23.31   \n",
      "22             79.99                0.260280       181.13       312.57   \n",
      "23              1.60               -0.940520         5.25         0.30   \n",
      "24              9.57               -0.068160        24.67        15.34   \n",
      "25            124.10               -0.613853        82.61        46.00   \n",
      "26             20.77               -0.220053         5.89          NaN   \n",
      "27              4.10                1.440476        10.98        28.05   \n",
      "28              2.11                5.806452         1.39         1.95   \n",
      "29              1.39               -0.550162         2.04         3.43   \n",
      "30            630.01                2.945948       284.76       714.24   \n",
      "31              4.30                2.185185        13.72        12.95   \n",
      "32             15.32               -0.057811        33.03        37.15   \n",
      "33              1.36               -0.873016        11.95       848.00   \n",
      "34             94.63               -0.164931        48.48        79.51   \n",
      "35              3.50               -0.956179        68.52        42.10   \n",
      "36              7.80               -0.549133         9.10         5.00   \n",
      "37           1849.26                1.120468       517.04      1192.25   \n",
      "38             11.63                0.633427         6.15         1.20   \n",
      "39              1.40                0.000000        18.08        18.30   \n",
      "\n",
      "    Income log change  Europe  Asia  America  \n",
      "0            1.470810       0     0        1  \n",
      "1            6.753715       1     0        0  \n",
      "2            1.716498       1     0        0  \n",
      "3           -0.405927       0     0        1  \n",
      "4            1.990440       1     0        0  \n",
      "5            1.519913       0     1        0  \n",
      "6            1.967164       0     0        1  \n",
      "7            0.086272       1     0        0  \n",
      "8           -0.278607       1     0        0  \n",
      "9            2.128307       1     0        0  \n",
      "10           0.022772       1     0        0  \n",
      "11          -0.050407       0     0        0  \n",
      "12           1.115811       1     0        0  \n",
      "13           1.622858       1     0        0  \n",
      "14           1.002053       1     0        0  \n",
      "15           2.356589       1     0        0  \n",
      "16           0.085992       1     0        0  \n",
      "17           0.419459       1     0        0  \n",
      "18          -0.712644       0     1        0  \n",
      "19           0.851298       1     0        0  \n",
      "20          -0.721410       1     0        0  \n",
      "21           0.656716       1     0        0  \n",
      "22           0.725667       1     0        0  \n",
      "23          -0.942857       0     1        0  \n",
      "24          -0.378192       1     0        0  \n",
      "25          -0.443167       1     0        0  \n",
      "26           0.000000       0     1        0  \n",
      "27           1.554645       1     0        0  \n",
      "28           0.402878       1     0        0  \n",
      "29           0.681373       0     0        0  \n",
      "30           1.508217       1     0        0  \n",
      "31          -0.056122       1     0        0  \n",
      "32           0.124735       1     0        0  \n",
      "33          69.962343       0     0        0  \n",
      "34           0.640058       1     0        0  \n",
      "35          -0.385581       1     0        0  \n",
      "36          -0.450549       0     1        0  \n",
      "37           1.305914       1     0        0  \n",
      "38          -0.804878       0     0        1  \n",
      "39           0.012168       0     0        1  \n"
     ]
    }
   ],
   "source": [
    "print(mergedsheet)"
   ]
  },
  {
   "cell_type": "code",
   "execution_count": 8,
   "metadata": {},
   "outputs": [
    {
     "data": {
      "image/png": "[encoded data removed]",
      "text/plain": [
       "<matplotlib.figure.Figure at 0x1a18284978>"
      ]
     },
     "metadata": {},
     "output_type": "display_data"
    }
   ],
   "source": [
    "mergedsheet.plot(kind='scatter', x = 'GDP Log Change', y = 'Expenditure log change')\n",
    "plt.show()"
   ]
  },
  {
   "cell_type": "code",
   "execution_count": 9,
   "metadata": {
    "collapsed": true
   },
   "outputs": [],
   "source": [
    "Y = mergedsheet['Expenditure log change']\n",
    "X1 = mergedsheet['GDP Log Change']\n",
    "X2 = mergedsheet['Inflation Log Change']\n",
    "X3 = mergedsheet['Unemployment Log Change']\n",
    "X4 = mergedsheet['Europe']\n",
    "X5 = mergedsheet ['Asia']\n",
    "X6 = mergedsheet ['America']\n"
   ]
  },
  {
   "cell_type": "code",
   "execution_count": 10,
   "metadata": {},
   "outputs": [
    {
     "data": {
      "text/html": [
       "<table class=\"simpletable\">\n",
       "<caption>OLS Regression Results</caption>\n",
       "<tr>\n",
       "  <th>Dep. Variable:</th>            <td>Y</td>        <th>  R-squared:         </th> <td>   0.242</td>\n",
       "</tr>\n",
       "<tr>\n",
       "  <th>Model:</th>                   <td>OLS</td>       <th>  Adj. R-squared:    </th> <td>   0.104</td>\n",
       "</tr>\n",
       "<tr>\n",
       "  <th>Method:</th>             <td>Least Squares</td>  <th>  F-statistic:       </th> <td>   1.758</td>\n",
       "</tr>\n",
       "<tr>\n",
       "  <th>Date:</th>             <td>Fri, 01 Dec 2017</td> <th>  Prob (F-statistic):</th>  <td> 0.139</td> \n",
       "</tr>\n",
       "<tr>\n",
       "  <th>Time:</th>                 <td>15:58:17</td>     <th>  Log-Likelihood:    </th> <td> -68.569</td>\n",
       "</tr>\n",
       "<tr>\n",
       "  <th>No. Observations:</th>      <td>    40</td>      <th>  AIC:               </th> <td>   151.1</td>\n",
       "</tr>\n",
       "<tr>\n",
       "  <th>Df Residuals:</th>          <td>    33</td>      <th>  BIC:               </th> <td>   163.0</td>\n",
       "</tr>\n",
       "<tr>\n",
       "  <th>Df Model:</th>              <td>     6</td>      <th>                     </th>     <td> </td>   \n",
       "</tr>\n",
       "<tr>\n",
       "  <th>Covariance Type:</th>      <td>nonrobust</td>    <th>                     </th>     <td> </td>   \n",
       "</tr>\n",
       "</table>\n",
       "<table class=\"simpletable\">\n",
       "<tr>\n",
       "      <td></td>         <th>coef</th>     <th>std err</th>      <th>t</th>      <th>P>|t|</th>  <th>[0.025</th>    <th>0.975]</th>  \n",
       "</tr>\n",
       "<tr>\n",
       "  <th>Intercept</th> <td>   -0.7678</td> <td>    0.855</td> <td>   -0.898</td> <td> 0.376</td> <td>   -2.507</td> <td>    0.971</td>\n",
       "</tr>\n",
       "<tr>\n",
       "  <th>X1</th>        <td>   -0.5097</td> <td>    1.329</td> <td>   -0.383</td> <td> 0.704</td> <td>   -3.214</td> <td>    2.195</td>\n",
       "</tr>\n",
       "<tr>\n",
       "  <th>X2</th>        <td>   -0.0181</td> <td>    0.268</td> <td>   -0.067</td> <td> 0.947</td> <td>   -0.562</td> <td>    0.526</td>\n",
       "</tr>\n",
       "<tr>\n",
       "  <th>X3</th>        <td>   -1.5475</td> <td>    0.762</td> <td>   -2.031</td> <td> 0.050</td> <td>   -3.098</td> <td>    0.003</td>\n",
       "</tr>\n",
       "<tr>\n",
       "  <th>X4</th>        <td>    1.5161</td> <td>    0.951</td> <td>    1.594</td> <td> 0.121</td> <td>   -0.419</td> <td>    3.451</td>\n",
       "</tr>\n",
       "<tr>\n",
       "  <th>X5</th>        <td>    0.1704</td> <td>    1.103</td> <td>    0.155</td> <td> 0.878</td> <td>   -2.073</td> <td>    2.414</td>\n",
       "</tr>\n",
       "<tr>\n",
       "  <th>X6</th>        <td>    2.2849</td> <td>    1.105</td> <td>    2.068</td> <td> 0.047</td> <td>    0.037</td> <td>    4.533</td>\n",
       "</tr>\n",
       "</table>\n",
       "<table class=\"simpletable\">\n",
       "<tr>\n",
       "  <th>Omnibus:</th>       <td>21.289</td> <th>  Durbin-Watson:     </th> <td>   1.724</td>\n",
       "</tr>\n",
       "<tr>\n",
       "  <th>Prob(Omnibus):</th> <td> 0.000</td> <th>  Jarque-Bera (JB):  </th> <td>  30.292</td>\n",
       "</tr>\n",
       "<tr>\n",
       "  <th>Skew:</th>          <td> 1.606</td> <th>  Prob(JB):          </th> <td>2.64e-07</td>\n",
       "</tr>\n",
       "<tr>\n",
       "  <th>Kurtosis:</th>      <td> 5.804</td> <th>  Cond. No.          </th> <td>    11.0</td>\n",
       "</tr>\n",
       "</table>"
      ],
      "text/plain": [
       "<class 'statsmodels.iolib.summary.Summary'>\n",
       "\"\"\"\n",
       "                            OLS Regression Results                            \n",
       "==============================================================================\n",
       "Dep. Variable:                      Y   R-squared:                       0.242\n",
       "Model:                            OLS   Adj. R-squared:                  0.104\n",
       "Method:                 Least Squares   F-statistic:                     1.758\n",
       "Date:                Fri, 01 Dec 2017   Prob (F-statistic):              0.139\n",
       "Time:                        15:58:17   Log-Likelihood:                -68.569\n",
       "No. Observations:                  40   AIC:                             151.1\n",
       "Df Residuals:                      33   BIC:                             163.0\n",
       "Df Model:                           6                                         \n",
       "Covariance Type:            nonrobust                                         \n",
       "==============================================================================\n",
       "                 coef    std err          t      P>|t|      [0.025      0.975]\n",
       "------------------------------------------------------------------------------\n",
       "Intercept     -0.7678      0.855     -0.898      0.376      -2.507       0.971\n",
       "X1            -0.5097      1.329     -0.383      0.704      -3.214       2.195\n",
       "X2            -0.0181      0.268     -0.067      0.947      -0.562       0.526\n",
       "X3            -1.5475      0.762     -2.031      0.050      -3.098       0.003\n",
       "X4             1.5161      0.951      1.594      0.121      -0.419       3.451\n",
       "X5             0.1704      1.103      0.155      0.878      -2.073       2.414\n",
       "X6             2.2849      1.105      2.068      0.047       0.037       4.533\n",
       "==============================================================================\n",
       "Omnibus:                       21.289   Durbin-Watson:                   1.724\n",
       "Prob(Omnibus):                  0.000   Jarque-Bera (JB):               30.292\n",
       "Skew:                           1.606   Prob(JB):                     2.64e-07\n",
       "Kurtosis:                       5.804   Cond. No.                         11.0\n",
       "==============================================================================\n",
       "\n",
       "Warnings:\n",
       "[1] Standard Errors assume that the covariance matrix of the errors is correctly specified.\n",
       "\"\"\""
      ]
     },
     "execution_count": 10,
     "metadata": {},
     "output_type": "execute_result"
    }
   ],
   "source": [
    "model = sm.ols(formula = 'Y ~ X1+ X2 + X3 + X4 + X5 + X6', data = mergedsheet).fit()\n",
    "model.summary()"
   ]
  },
  {
   "cell_type": "code",
   "execution_count": 11,
   "metadata": {},
   "outputs": [
    {
     "data": {
      "image/png": "[encoded data removed]",
      "text/plain": [
       "<matplotlib.figure.Figure at 0x112d52080>"
      ]
     },
     "metadata": {},
     "output_type": "display_data"
    }
   ],
   "source": [
    "sns.regplot(data = mergedsheet, x = X1, y = Y)\n",
    "plt.show()"
   ]
  },
  {
   "cell_type": "code",
   "execution_count": 12,
   "metadata": {},
   "outputs": [
    {
     "data": {
      "image/png": "[encoded data removed]",
      "text/plain": [
       "<matplotlib.figure.Figure at 0x1a2110f9e8>"
      ]
     },
     "metadata": {},
     "output_type": "display_data"
    },
    {
     "data": {
      "image/png": "[encoded data removed]",
      "text/plain": [
       "<matplotlib.figure.Figure at 0x1a2077b048>"
      ]
     },
     "metadata": {},
     "output_type": "display_data"
    }
   ],
   "source": [
    "plt.boxplot(mergedsheet['Expenditure log change'])\n",
    "plt.show()\n",
    "\n",
    "plt.boxplot(mergedsheet['GDP Log Change'])\n",
    "plt.show()"
   ]
  },
  {
   "cell_type": "code",
   "execution_count": 15,
   "metadata": {},
   "outputs": [
    {
     "data": {
      "image/png": "[encoded data removed]",
      "text/plain": [
       "<matplotlib.figure.Figure at 0x1a207cb0b8>"
      ]
     },
     "metadata": {},
     "output_type": "display_data"
    }
   ],
   "source": [
    "plt.boxplot(mergedsheet['Expenditure log change'], ['GDP Log Change'])\n",
    "plt.show()"
   ]
  }
 ],
 "metadata": {
  "kernelspec": {
   "display_name": "Python 3",
   "language": "python",
   "name": "python3"
  },
  "language_info": {
   "codemirror_mode": {
    "name": "ipython",
    "version": 3
   },
   "file_extension": ".py",
   "mimetype": "text/x-python",
   "name": "python",
   "nbconvert_exporter": "python",
   "pygments_lexer": "ipython3",
   "version": "3.6.2"
  }
 },
 "nbformat": 4,
 "nbformat_minor": 2
}
